{
 "cells": [
  {
   "cell_type": "code",
   "execution_count": null,
   "id": "b33b1462",
   "metadata": {},
   "outputs": [
    {
     "name": "stdout",
     "output_type": "stream",
     "text": [
      "Saved 9 CSV files to ./\n"
     ]
    }
   ],
   "source": [
    "import pandas as pd\n",
    "import os\n",
    "\n",
    "# Load your CSV\n",
    "df = pd.read_csv(\"../mtsamples_layman_v3.csv\")\n",
    "\n",
    "# Create output directory\n",
    "output_dir = \"./\"\n",
    "# os.makedirs(output_dir, exist_ok=True)\n",
    "\n",
    "# Group by 'medical_specialty' and save each group as a separate CSV\n",
    "for specialty, group in df.groupby(\"medical_specialty\"):\n",
    "    # Clean the specialty string for safe filename\n",
    "    safe_name = str(specialty).replace(\"/\", \"_\").replace(\"\\\\\", \"_\").replace(\" \", \"\")\n",
    "    file_path = os.path.join(output_dir, f\"{safe_name}.csv\")\n",
    "    group.to_csv(file_path, index=False)\n",
    "\n",
    "print(f\"Saved {len(df['medical_specialty'].unique())} CSV files to {output_dir}\")\n"
   ]
  },
  {
   "cell_type": "code",
   "execution_count": 4,
   "id": "a9250222",
   "metadata": {},
   "outputs": [
    {
     "name": "stdout",
     "output_type": "stream",
     "text": [
      "['Allergy / Immunology' 'Cardiovascular / Pulmonary' 'General Medicine'\n",
      " 'Sleep Medicine' 'Rheumatology' 'Nephrology' 'Hematology - Oncology'\n",
      " 'Gastroenterology' 'Endocrinology']\n"
     ]
    }
   ],
   "source": [
    "import pandas as pd\n",
    "\n",
    "# Load CSV file\n",
    "df = pd.read_csv(\"../mtsamples_layman.csv\")  # replace with your actual file name\n",
    "\n",
    "# Print all unique values in 'medical_specialty' column\n",
    "print(df[\"medical_specialty\"].unique())\n"
   ]
  }
 ],
 "metadata": {
  "kernelspec": {
   "display_name": "ai-hos",
   "language": "python",
   "name": "python3"
  },
  "language_info": {
   "codemirror_mode": {
    "name": "ipython",
    "version": 3
   },
   "file_extension": ".py",
   "mimetype": "text/x-python",
   "name": "python",
   "nbconvert_exporter": "python",
   "pygments_lexer": "ipython3",
   "version": "3.11.11"
  }
 },
 "nbformat": 4,
 "nbformat_minor": 5
}
